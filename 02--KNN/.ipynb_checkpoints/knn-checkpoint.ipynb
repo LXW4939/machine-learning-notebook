{
 "metadata": {
  "name": "",
  "signature": "sha256:407e0d91494b8a23101ff175f4c5078d16188097059063f31e735aec8ed1f54b"
 },
 "nbformat": 3,
 "nbformat_minor": 0,
 "worksheets": [
  {
   "cells": [
    {
     "cell_type": "markdown",
     "metadata": {},
     "source": [
      "KNN\u65b9\u6cd5\uff1a\n",
      "1. \u8ba1\u7b97\u5f85\u5206\u7c7b\u6837\u672c\u4e0e\u8bad\u7ec3\u6837\u672c\u96c6\u4e2d\u5404\u4e2a\u6837\u672c\u7684\u8ddd\u79bb\uff1b\n",
      "2. \u5bf9\u8ddd\u79bb\u8fdb\u884c\u6392\u5e8f\uff1b\n",
      "3. \u5bf9\u524dk\u4e2a\u8ddd\u79bb\u6700\u5c0f\u7684\u6837\u672c\u8fdb\u884c\u7c7b\u522b\u7edf\u8ba1\uff08\u7c7b\u4f3c\u6295\u7968\u673a\u5236\uff09\uff0c\u6837\u672c\u6700\u591a\u7684\u90a3\u4e00\u7c7b\u5373\u4e3a\u5f85\u5206\u7c7b\u6837\u672c\u7684\u7c7b\u522b"
     ]
    },
    {
     "cell_type": "code",
     "collapsed": false,
     "input": [
      "from numpy import *\n",
      "import operator\n",
      "\n",
      "group = array([[1.0,1.1],[1.0,1.0],[0,0],[0,0.1]])\n",
      "print group"
     ],
     "language": "python",
     "metadata": {},
     "outputs": [
      {
       "output_type": "stream",
       "stream": "stdout",
       "text": [
        "[[ 1.   1.1]\n",
        " [ 1.   1. ]\n",
        " [ 0.   0. ]\n",
        " [ 0.   0.1]]\n"
       ]
      }
     ],
     "prompt_number": 11
    },
    {
     "cell_type": "code",
     "collapsed": false,
     "input": [
      "labels = ['A','A','B','B']\n",
      "print labels"
     ],
     "language": "python",
     "metadata": {},
     "outputs": [
      {
       "output_type": "stream",
       "stream": "stdout",
       "text": [
        "['A', 'A', 'B', 'B']\n"
       ]
      }
     ],
     "prompt_number": 12
    },
    {
     "cell_type": "code",
     "collapsed": false,
     "input": [
      "inX= [0.3,0.3]\n",
      "k = 3\n",
      "dataSet = group\n",
      "dataSetSize = dataSet.shape[0]    # instance number\n",
      "diffMat = tile(inX, (dataSetSize, 1)) - dataSet\n",
      "sqDiffMat = diffMat**2\n",
      "distances = sqDiffMat.sum(axis = 1)    # \u5bf9\u7ef4\u5ea6\u6c42\u548c\n",
      "sortedDistIndicies = distances.argsort()\n",
      "print sortedDistIndicies\n",
      "print \"max radius: \", distances[sortedDistIndicies[k-1]]"
     ],
     "language": "python",
     "metadata": {},
     "outputs": [
      {
       "output_type": "stream",
       "stream": "stdout",
       "text": [
        "[3 2 1 0]\n",
        "max radius:  0.98\n"
       ]
      }
     ],
     "prompt_number": 13
    },
    {
     "cell_type": "code",
     "collapsed": false,
     "input": [
      "import matplotlib.pyplot as plt\n",
      "import pandas as pd\n",
      "\n",
      "x = group[:,0]\n",
      "y = group[:,1]\n",
      "points = ['point:{0}'.format(i) for i in range(dataSetSize)]\n",
      "df = pd.DataFrame(dict(x=x, y=y, label = labels, point = points))\n",
      "groups = df.groupby('label')\n",
      "\n",
      "# Plot\n",
      "figure(figsize=(7,7))\n",
      "ax=subplot(aspect='equal')\n",
      "ax.margins(0.02) # Optional, just adds 5% padding to the autoscaling\n",
      "for name, group in groups:\n",
      "    ax.plot(group.x, group.y, marker='o', linestyle='', ms=12, label=name)\n",
      "for point, x1, y1 in zip(points, x, y):\n",
      "    ax.annotate(point, xy = (x1, y1), xytext = (-20, 20),textcoords = 'offset points', ha = 'right', va = 'bottom',bbox = dict(boxstyle = 'round,pad=0.5', fc = 'yellow', alpha = 0.5),arrowprops = dict(arrowstyle = '->', connectionstyle = 'arc3,rad=0'))\n",
      "ax.legend(loc=2)\n",
      "plt.plot(inX[0],inX[1],'ro',ms=12)\n",
      "ax.annotate(\"A or B?\", xy = (inX[0], inX[1]), xytext = (-20, 20),textcoords = 'offset points', ha = 'right', va = 'bottom',bbox = dict(boxstyle = 'round,pad=0.5', fc = 'yellow', alpha = 0.5),arrowprops = dict(arrowstyle = '->', connectionstyle = 'arc3,rad=0'))\n",
      "circle1=plt.Circle((inX[0],inX[1]),distances[sortedDistIndicies[k-1]],color='r', fill=False)\n",
      "plt.gcf().gca().add_artist(circle1)\n",
      "plt.axis([-1,1.2,-1.2,1.2])\n",
      "plt.show()"
     ],
     "language": "python",
     "metadata": {},
     "outputs": [
      {
       "metadata": {},
       "output_type": "display_data",
       "png": "[encoded data removed]",
       "text": [
        "<matplotlib.figure.Figure at 0xc83b5f8>"
       ]
      }
     ],
     "prompt_number": 14
    },
    {
     "cell_type": "code",
     "collapsed": false,
     "input": [
      "#\u5bf9\u524dk\u4e2a\u8ddd\u79bb\u6700\u5c0f\u7684\u6837\u672c\u8fdb\u884c\u7c7b\u522b\u7edf\u8ba1\uff08\u7c7b\u4f3c\u6295\u7968\u673a\u5236\uff09\uff0c\u6837\u672c\u6700\u591a\u7684\u90a3\u4e00\u7c7b\u5373\u4e3a\u5f85\u5206\u7c7b\u6837\u672c\u7684\u7c7b\u522b\n",
      "classCount = {}\n",
      "for i in range(k):\n",
      "    voteIlabel = labels[sortedDistIndicies[i]]\n",
      "    classCount[voteIlabel] = classCount.get(voteIlabel,0) + 1\n",
      "sortedClassCount = sorted(classCount.iteritems(), key=operator.itemgetter(1),reverse=True)\n",
      "print sortedClassCount[0][0]"
     ],
     "language": "python",
     "metadata": {},
     "outputs": [
      {
       "output_type": "stream",
       "stream": "stdout",
       "text": [
        "B\n"
       ]
      }
     ],
     "prompt_number": 20
    },
    {
     "cell_type": "code",
     "collapsed": false,
     "input": [],
     "language": "python",
     "metadata": {},
     "outputs": []
    }
   ],
   "metadata": {}
  }
 ]
}